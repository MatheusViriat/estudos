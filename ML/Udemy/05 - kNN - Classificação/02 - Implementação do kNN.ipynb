{
 "cells": [
  {
   "cell_type": "code",
   "execution_count": 1,
   "metadata": {},
   "outputs": [],
   "source": [
    "'''\n",
    "Implementação do kNN\n",
    "dataset: https://archive.ics.uci.edu/ml/datasets/Haberman%27s+Survival\n",
    "Descrição do dataset: sobrevivência de pacientes submetidos a cirurgia de câncer de mama\n",
    "'''\n",
    "#PARTE 1\n",
    "\n",
    "# lista de amostras\n",
    "amostras = []"
   ]
  },
  {
   "cell_type": "code",
   "execution_count": 2,
   "metadata": {},
   "outputs": [],
   "source": [
    "with open('haberman.data', 'r') as f:\n",
    "    for linha in f.readlines():\n",
    "        atrib = linha.replace('\\n', '').split(',')\n",
    "        amostras.append([int(atrib[0]), int(atrib[1]), int(atrib[2]), int(atrib[3])])"
   ]
  },
  {
   "cell_type": "code",
   "execution_count": 3,
   "metadata": {},
   "outputs": [
    {
     "data": {
      "text/plain": [
       "306"
      ]
     },
     "execution_count": 3,
     "metadata": {},
     "output_type": "execute_result"
    }
   ],
   "source": [
    "len(amostras)"
   ]
  },
  {
   "cell_type": "code",
   "execution_count": 4,
   "metadata": {},
   "outputs": [
    {
     "name": "stdout",
     "output_type": "stream",
     "text": [
      "[[30, 64, 1, 1], [30, 62, 3, 1], [30, 65, 0, 1], [31, 59, 2, 1], [31, 65, 4, 1], [33, 58, 10, 1], [33, 60, 0, 1], [34, 59, 0, 2], [34, 66, 9, 2], [34, 58, 30, 1], [34, 60, 1, 1], [34, 61, 10, 1], [34, 67, 7, 1], [34, 60, 0, 1], [35, 64, 13, 1], [35, 63, 0, 1], [36, 60, 1, 1], [36, 69, 0, 1], [37, 60, 0, 1], [37, 63, 0, 1], [37, 58, 0, 1], [37, 59, 6, 1], [37, 60, 15, 1], [37, 63, 0, 1], [38, 69, 21, 2], [38, 59, 2, 1], [38, 60, 0, 1], [38, 60, 0, 1], [38, 62, 3, 1], [38, 64, 1, 1], [38, 66, 0, 1], [38, 66, 11, 1], [38, 60, 1, 1], [38, 67, 5, 1], [39, 66, 0, 2], [39, 63, 0, 1], [39, 67, 0, 1], [39, 58, 0, 1], [39, 59, 2, 1], [39, 63, 4, 1], [40, 58, 2, 1], [40, 58, 0, 1], [40, 65, 0, 1], [41, 60, 23, 2], [41, 64, 0, 2], [41, 67, 0, 2], [41, 58, 0, 1], [41, 59, 8, 1], [41, 59, 0, 1], [41, 64, 0, 1], [41, 69, 8, 1], [41, 65, 0, 1], [41, 65, 0, 1], [42, 69, 1, 2], [42, 59, 0, 2], [42, 58, 0, 1], [42, 60, 1, 1], [42, 59, 2, 1], [42, 61, 4, 1], [42, 62, 20, 1], [42, 65, 0, 1], [42, 63, 1, 1], [43, 58, 52, 2], [43, 59, 2, 2], [43, 64, 0, 2], [43, 64, 0, 2], [43, 63, 14, 1], [43, 64, 2, 1], [43, 64, 3, 1], [43, 60, 0, 1], [43, 63, 2, 1], [43, 65, 0, 1], [43, 66, 4, 1], [44, 64, 6, 2], [44, 58, 9, 2], [44, 63, 19, 2], [44, 61, 0, 1], [44, 63, 1, 1], [44, 61, 0, 1], [44, 67, 16, 1], [45, 65, 6, 2], [45, 66, 0, 2], [45, 67, 1, 2], [45, 60, 0, 1], [45, 67, 0, 1], [45, 59, 14, 1], [45, 64, 0, 1], [45, 68, 0, 1], [45, 67, 1, 1], [46, 58, 2, 2], [46, 69, 3, 2], [46, 62, 5, 2], [46, 65, 20, 2], [46, 62, 0, 1], [46, 58, 3, 1], [46, 63, 0, 1], [47, 63, 23, 2], [47, 62, 0, 2], [47, 65, 0, 2], [47, 61, 0, 1], [47, 63, 6, 1], [47, 66, 0, 1], [47, 67, 0, 1], [47, 58, 3, 1], [47, 60, 4, 1], [47, 68, 4, 1], [47, 66, 12, 1], [48, 58, 11, 2], [48, 58, 11, 2], [48, 67, 7, 2], [48, 61, 8, 1], [48, 62, 2, 1], [48, 64, 0, 1], [48, 66, 0, 1], [49, 63, 0, 2], [49, 64, 10, 2], [49, 61, 1, 1], [49, 62, 0, 1], [49, 66, 0, 1], [49, 60, 1, 1], [49, 62, 1, 1], [49, 63, 3, 1], [49, 61, 0, 1], [49, 67, 1, 1], [50, 63, 13, 2], [50, 64, 0, 2], [50, 59, 0, 1], [50, 61, 6, 1], [50, 61, 0, 1], [50, 63, 1, 1], [50, 58, 1, 1], [50, 59, 2, 1], [50, 61, 0, 1], [50, 64, 0, 1], [50, 65, 4, 1], [50, 66, 1, 1], [51, 59, 13, 2], [51, 59, 3, 2], [51, 64, 7, 1], [51, 59, 1, 1], [51, 65, 0, 1], [51, 66, 1, 1], [52, 69, 3, 2], [52, 59, 2, 2], [52, 62, 3, 2], [52, 66, 4, 2], [52, 61, 0, 1], [52, 63, 4, 1], [52, 69, 0, 1], [52, 60, 4, 1], [52, 60, 5, 1], [52, 62, 0, 1], [52, 62, 1, 1], [52, 64, 0, 1], [52, 65, 0, 1], [52, 68, 0, 1], [53, 58, 4, 2], [53, 65, 1, 2], [53, 59, 3, 2], [53, 60, 9, 2], [53, 63, 24, 2], [53, 65, 12, 2], [53, 58, 1, 1], [53, 60, 1, 1], [53, 60, 2, 1], [53, 61, 1, 1], [53, 63, 0, 1], [54, 60, 11, 2], [54, 65, 23, 2], [54, 65, 5, 2], [54, 68, 7, 2], [54, 59, 7, 1], [54, 60, 3, 1], [54, 66, 0, 1], [54, 67, 46, 1], [54, 62, 0, 1], [54, 69, 7, 1], [54, 63, 19, 1], [54, 58, 1, 1], [54, 62, 0, 1], [55, 63, 6, 2], [55, 68, 15, 2], [55, 58, 1, 1], [55, 58, 0, 1], [55, 58, 1, 1], [55, 66, 18, 1], [55, 66, 0, 1], [55, 69, 3, 1], [55, 69, 22, 1], [55, 67, 1, 1], [56, 65, 9, 2], [56, 66, 3, 2], [56, 60, 0, 1], [56, 66, 2, 1], [56, 66, 1, 1], [56, 67, 0, 1], [56, 60, 0, 1], [57, 61, 5, 2], [57, 62, 14, 2], [57, 64, 1, 2], [57, 64, 9, 1], [57, 69, 0, 1], [57, 61, 0, 1], [57, 62, 0, 1], [57, 63, 0, 1], [57, 64, 0, 1], [57, 64, 0, 1], [57, 67, 0, 1], [58, 59, 0, 1], [58, 60, 3, 1], [58, 61, 1, 1], [58, 67, 0, 1], [58, 58, 0, 1], [58, 58, 3, 1], [58, 61, 2, 1], [59, 62, 35, 2], [59, 60, 0, 1], [59, 63, 0, 1], [59, 64, 1, 1], [59, 64, 4, 1], [59, 64, 0, 1], [59, 64, 7, 1], [59, 67, 3, 1], [60, 59, 17, 2], [60, 65, 0, 2], [60, 61, 1, 1], [60, 67, 2, 1], [60, 61, 25, 1], [60, 64, 0, 1], [61, 62, 5, 2], [61, 65, 0, 2], [61, 68, 1, 2], [61, 59, 0, 1], [61, 59, 0, 1], [61, 64, 0, 1], [61, 65, 8, 1], [61, 68, 0, 1], [61, 59, 0, 1], [62, 59, 13, 2], [62, 58, 0, 2], [62, 65, 19, 2], [62, 62, 6, 1], [62, 66, 0, 1], [62, 66, 0, 1], [62, 58, 0, 1], [63, 60, 1, 2], [63, 61, 0, 1], [63, 62, 0, 1], [63, 63, 0, 1], [63, 63, 0, 1], [63, 66, 0, 1], [63, 61, 9, 1], [63, 61, 28, 1], [64, 58, 0, 1], [64, 65, 22, 1], [64, 66, 0, 1], [64, 61, 0, 1], [64, 68, 0, 1], [65, 58, 0, 2], [65, 61, 2, 2], [65, 62, 22, 2], [65, 66, 15, 2], [65, 58, 0, 1], [65, 64, 0, 1], [65, 67, 0, 1], [65, 59, 2, 1], [65, 64, 0, 1], [65, 67, 1, 1], [66, 58, 0, 2], [66, 61, 13, 2], [66, 58, 0, 1], [66, 58, 1, 1], [66, 68, 0, 1], [67, 64, 8, 2], [67, 63, 1, 2], [67, 66, 0, 1], [67, 66, 0, 1], [67, 61, 0, 1], [67, 65, 0, 1], [68, 67, 0, 1], [68, 68, 0, 1], [69, 67, 8, 2], [69, 60, 0, 1], [69, 65, 0, 1], [69, 66, 0, 1], [70, 58, 0, 2], [70, 58, 4, 2], [70, 66, 14, 1], [70, 67, 0, 1], [70, 68, 0, 1], [70, 59, 8, 1], [70, 63, 0, 1], [71, 68, 2, 1], [72, 63, 0, 2], [72, 58, 0, 1], [72, 64, 0, 1], [72, 67, 3, 1], [73, 62, 0, 1], [73, 68, 0, 1], [74, 65, 3, 2], [74, 63, 0, 1], [75, 62, 1, 1], [76, 67, 0, 1], [77, 65, 3, 1], [78, 65, 1, 2], [83, 58, 2, 2]]\n"
     ]
    }
   ],
   "source": [
    "print(amostras)"
   ]
  },
  {
   "cell_type": "code",
   "execution_count": 5,
   "metadata": {},
   "outputs": [],
   "source": [
    "#PARTE 2\n",
    "#função para mostrar informações sobre o dataset\n",
    "def info_dataset(amostras, verbose=True):\n",
    "    if verbose:\n",
    "        print('Total de amostras: %d' % len(amostras))\n",
    "    rotulo1, rotulo2 = 0,0\n",
    "    for amostra in amostras:\n",
    "        if amostra[-1] == 1:\n",
    "            rotulo1 += 1\n",
    "        else:\n",
    "            rotulo2 += 1\n",
    "    if verbose:\n",
    "        print('Total rotulo 1: %d' % rotulo1)\n",
    "        print('Total rotulo 2: %d' % rotulo2)\n",
    "    return [len(amostras), rotulo1, rotulo2]"
   ]
  },
  {
   "cell_type": "code",
   "execution_count": 6,
   "metadata": {},
   "outputs": [
    {
     "name": "stdout",
     "output_type": "stream",
     "text": [
      "Total de amostras: 306\n",
      "Total rotulo 1: 225\n",
      "Total rotulo 2: 81\n"
     ]
    },
    {
     "data": {
      "text/plain": [
       "[306, 225, 81]"
      ]
     },
     "execution_count": 6,
     "metadata": {},
     "output_type": "execute_result"
    }
   ],
   "source": [
    "info_dataset(amostras)"
   ]
  },
  {
   "cell_type": "code",
   "execution_count": 7,
   "metadata": {},
   "outputs": [],
   "source": [
    "#dividindo os dados em treino e teste\n",
    "p = 0.6\n",
    "_, rotulo1, rotulo2 = info_dataset(amostras, verbose=False)"
   ]
  },
  {
   "cell_type": "code",
   "execution_count": 8,
   "metadata": {},
   "outputs": [],
   "source": [
    "treinamento, teste = [], []\n",
    "max_rotulo1, max_rotulo2 = int(p * rotulo1), int(p * rotulo2)\n",
    "\n",
    "total_rotulo1, total_rotulo2 = 0, 0\n",
    "for amostra in amostras:\n",
    "    if(total_rotulo1 + total_rotulo2) < (max_rotulo1 + max_rotulo2):\n",
    "        treinamento.append(amostra)\n",
    "        if amostra[-1] == 1 and total_rotulo1 < max_rotulo1:\n",
    "            total_rotulo1 += 1\n",
    "        else:\n",
    "            total_rotulo2 += 1\n",
    "    else:\n",
    "        teste.append(amostra)"
   ]
  },
  {
   "cell_type": "code",
   "execution_count": 9,
   "metadata": {},
   "outputs": [
    {
     "name": "stdout",
     "output_type": "stream",
     "text": [
      "Total de amostras: 183\n",
      "Total rotulo 1: 132\n",
      "Total rotulo 2: 51\n"
     ]
    },
    {
     "data": {
      "text/plain": [
       "[183, 132, 51]"
      ]
     },
     "execution_count": 9,
     "metadata": {},
     "output_type": "execute_result"
    }
   ],
   "source": [
    "info_dataset(treinamento)"
   ]
  },
  {
   "cell_type": "code",
   "execution_count": 10,
   "metadata": {},
   "outputs": [
    {
     "name": "stdout",
     "output_type": "stream",
     "text": [
      "Total de amostras: 123\n",
      "Total rotulo 1: 93\n",
      "Total rotulo 2: 30\n"
     ]
    },
    {
     "data": {
      "text/plain": [
       "[123, 93, 30]"
      ]
     },
     "execution_count": 10,
     "metadata": {},
     "output_type": "execute_result"
    }
   ],
   "source": [
    "info_dataset(teste)"
   ]
  },
  {
   "cell_type": "code",
   "execution_count": 11,
   "metadata": {},
   "outputs": [],
   "source": [
    "#PARTE 3\n",
    "\n",
    "import math"
   ]
  },
  {
   "cell_type": "code",
   "execution_count": 12,
   "metadata": {},
   "outputs": [],
   "source": [
    "#implementando a distancia euclidiana\n",
    "def dist_euclidiana(v1, v2):\n",
    "    dim, soma = len(v1), 0\n",
    "    for i in range(dim - 1):\n",
    "        soma += math.pow(v1[i] - v2[i], 2)\n",
    "    return math.sqrt(soma)"
   ]
  },
  {
   "cell_type": "code",
   "execution_count": 15,
   "metadata": {},
   "outputs": [
    {
     "data": {
      "text/plain": [
       "1.4142135623730951"
      ]
     },
     "execution_count": 15,
     "metadata": {},
     "output_type": "execute_result"
    }
   ],
   "source": [
    "#teste da distancia euclidiana\n",
    "v1 = [1, 2, 3]\n",
    "v2 = [2, 1, 5]\n",
    "\n",
    "dist_euclidiana(v1,v2)"
   ]
  },
  {
   "cell_type": "code",
   "execution_count": 17,
   "metadata": {},
   "outputs": [],
   "source": [
    "def knn(treinamento, nova_amostra, K):\n",
    "    dists, tam_treino = {}, len(treinamento)\n",
    "    #calcula a distancia euclidiana da nova amostra para\n",
    "    #todos os outros exemplos do conjunto de treinamento\n",
    "    for i in range(tam_treino):\n",
    "        d = dist_euclidiana(treinamento[i], nova_amostra)\n",
    "        dists[i] = d\n",
    "        \n",
    "    #obtem as chaves (indices) dos k-vizinhos mais próximos\n",
    "    k_vizinhos = sorted(dists, key=dists.get)[:K]\n",
    "    \n",
    "    #votação majoritaria\n",
    "    qtd_rotulo1, qtd_rotulo2 = 0,0\n",
    "    for indice in k_vizinhos:\n",
    "        if treinamento[indice][-1] == 1:\n",
    "            qtd_rotulo1 += 1\n",
    "        else:\n",
    "            qtd_rotulo2 += 1\n",
    "    if qtd_rotulo1 > qtd_rotulo2:\n",
    "        return 1\n",
    "    else:\n",
    "        return 2"
   ]
  },
  {
   "cell_type": "code",
   "execution_count": 26,
   "metadata": {},
   "outputs": [
    {
     "name": "stdout",
     "output_type": "stream",
     "text": [
      "[60, 59, 17, 2]\n"
     ]
    }
   ],
   "source": [
    "print(teste[40])"
   ]
  },
  {
   "cell_type": "code",
   "execution_count": 29,
   "metadata": {},
   "outputs": [
    {
     "name": "stdout",
     "output_type": "stream",
     "text": [
      "2\n"
     ]
    }
   ],
   "source": [
    "print(knn(treinamento, teste[40], K=3))"
   ]
  },
  {
   "cell_type": "code",
   "execution_count": 37,
   "metadata": {},
   "outputs": [
    {
     "name": "stdout",
     "output_type": "stream",
     "text": [
      "Total de treinamento: 183\n",
      "Total de testes: 123\n",
      "Total de acertos: 93\n",
      "Porcentagem de acertos: 75.61%\n"
     ]
    }
   ],
   "source": [
    "#PARTE 4\n",
    "acertos, K = 0, 13\n",
    "for amostra in teste:\n",
    "    classe = knn(treinamento, amostra, K)\n",
    "    if amostra[-1] == classe:\n",
    "        acertos += 1\n",
    "    \n",
    "print('Total de treinamento: %d'% len(treinamento))\n",
    "print('Total de testes: %d' % len(teste))\n",
    "print('Total de acertos: %d' % acertos)\n",
    "print('Porcentagem de acertos: %.2f%%' % (100 * acertos / len(teste)))"
   ]
  },
  {
   "cell_type": "code",
   "execution_count": null,
   "metadata": {},
   "outputs": [],
   "source": []
  },
  {
   "cell_type": "code",
   "execution_count": null,
   "metadata": {},
   "outputs": [],
   "source": []
  }
 ],
 "metadata": {
  "kernelspec": {
   "display_name": "Python 3",
   "language": "python",
   "name": "python3"
  },
  "language_info": {
   "codemirror_mode": {
    "name": "ipython",
    "version": 3
   },
   "file_extension": ".py",
   "mimetype": "text/x-python",
   "name": "python",
   "nbconvert_exporter": "python",
   "pygments_lexer": "ipython3",
   "version": "3.6.3"
  }
 },
 "nbformat": 4,
 "nbformat_minor": 2
}
